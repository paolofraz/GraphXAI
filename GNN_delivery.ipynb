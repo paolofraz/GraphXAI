{
 "cells": [
  {
   "cell_type": "markdown",
   "source": [
    "# Experimenting with GraphXAI on MUTAG\n",
    "\n",
    "In this Notebook, we train a simple GNN (namely, GCN) on the MUTAG dataset, and build a simple pipeline to use the trained model to make predictions on masked graphs.\n",
    "\n",
    "Other useful (?) things in PyG:\n",
    "- torch_geometric.utils.k_hop_subgraph\n",
    "- torch_geometric.utils.index_to_mask\n",
    "\n",
    "TODO:\n",
    "- Improve Accuracy performance\n",
    "- Try out different Architectures (at least GIN, GAT, GraphConv)"
   ],
   "metadata": {
    "collapsed": false
   },
   "id": "cf018653e0737502"
  },
  {
   "cell_type": "code",
   "execution_count": 25,
   "id": "initial_id",
   "metadata": {
    "collapsed": true,
    "ExecuteTime": {
     "end_time": "2024-03-14T14:19:13.276496Z",
     "start_time": "2024-03-14T14:19:12.535499Z"
    }
   },
   "outputs": [
    {
     "name": "stdout",
     "output_type": "stream",
     "text": [
      "The autoreload extension is already loaded. To reload it, use:\n",
      "  %reload_ext autoreload\n"
     ]
    },
    {
     "name": "stderr",
     "output_type": "stream",
     "text": [
      "C:\\ProgramData\\mambaforge\\envs\\PyTorch2\\lib\\site-packages\\torch_geometric\\data\\in_memory_dataset.py:284: UserWarning: It is not recommended to directly access the internal storage format `data` of an 'InMemoryDataset'. The data of the dataset is already cached, so any modifications to `data` will not be reflected when accessing its elements. Clearing the cache now by removing all elements in `dataset._data_list`. If you are absolutely certain what you are doing, access the internal storage via `InMemoryDataset._data` instead to suppress this warning. Alternatively, you can access stacked individual attributes of every graph via `dataset.{attr_name}`.\n",
      "  warnings.warn(msg)\n"
     ]
    }
   ],
   "source": [
    "%load_ext autoreload\n",
    "%autoreload 2\n",
    "from pathlib import Path\n",
    "\n",
    "import torch\n",
    "from torch_geometric.loader import DataLoader\n",
    "import matplotlib.pyplot as plt\n",
    "import graphxai\n",
    "from graphxai.datasets.real_world.MUTAG import MUTAG\n",
    "device = torch.device('cuda' if torch.cuda.is_available() else 'cpu')\n",
    "\n",
    "# Load dataset\n",
    "dataset = MUTAG(root='../Datasets/GraphXAI/', seed=1234, split_sizes=(0.8, 0.1, 0.1))\n",
    "dataset.graphs.data.to(device)\n",
    "num_nodes_features = dataset.graphs.num_node_features\n",
    "num_classes = dataset.graphs.num_classes\n",
    "\n",
    "train_loader = DataLoader(dataset[dataset.train_index], batch_size=32, shuffle=True)\n",
    "val_loader = DataLoader(dataset[dataset.val_index], batch_size=len(dataset.val_index), shuffle=False)\n",
    "test_loader = DataLoader(dataset[dataset.test_index], batch_size=len(dataset.test_index), shuffle=False)"
   ]
  },
  {
   "cell_type": "markdown",
   "source": [
    "## GCN"
   ],
   "metadata": {
    "collapsed": false
   },
   "id": "3ef2cf6b43fbe9c2"
  },
  {
   "cell_type": "code",
   "outputs": [
    {
     "name": "stdout",
     "output_type": "stream",
     "text": [
      "GCN_3layer(\n",
      "  (conv1): GCNConv(7, 64)\n",
      "  (conv2): GCNConv(64, 64)\n",
      "  (conv3): GCNConv(64, 64)\n",
      "  (lin): Linear(in_features=64, out_features=2, bias=True)\n",
      ")\n"
     ]
    }
   ],
   "source": [
    "from graphxai.gnn_models.graph_classification import GCN_3layer\n",
    "\n",
    "# Model and optimizer\n",
    "model = GCN_3layer(num_nodes_features, 64, num_classes).to(device)\n",
    "print(model)\n",
    "optimizer = torch.optim.Adam(model.parameters(), lr=0.005, weight_decay=5e-4)\n",
    "criterion = torch.nn.CrossEntropyLoss()\n",
    "save_path = Path(f'graphxai/gnn_models/ckpt/{model.__class__.__name__}_best.pth')"
   ],
   "metadata": {
    "collapsed": false,
    "ExecuteTime": {
     "end_time": "2024-03-14T14:05:44.840664Z",
     "start_time": "2024-03-14T14:05:44.192664Z"
    }
   },
   "id": "f63f3bf583128e2b",
   "execution_count": 2
  },
  {
   "cell_type": "code",
   "outputs": [],
   "source": [
    "def train():\n",
    "    model.train()\n",
    "\n",
    "    for data in train_loader:  # Iterate in batches over the training dataset.\n",
    "         out = model(data.x, data.edge_index, data.batch)  # Perform a single forward pass.\n",
    "         loss = criterion(out, data.y)  # Compute the loss.\n",
    "         loss.backward()  # Derive gradients.\n",
    "         optimizer.step()  # Update parameters based on gradients.\n",
    "         optimizer.zero_grad()  # Clear gradients.\n",
    "\n",
    "def test(loader):\n",
    "     model.eval()\n",
    "\n",
    "     correct = 0\n",
    "     for data in loader:  # Iterate in batches over the training/test dataset.\n",
    "         out = model(data.x, data.edge_index, data.batch)  \n",
    "         pred = out.argmax(dim=1)  # Use the class with highest probability.\n",
    "         correct += int((pred == data.y).sum())  # Check against ground-truth labels.\n",
    "     return correct / len(loader.dataset)  # Derive ratio of correct predictions."
   ],
   "metadata": {
    "collapsed": false,
    "ExecuteTime": {
     "end_time": "2024-03-14T12:07:36.806895Z",
     "start_time": "2024-03-14T12:07:35.524292Z"
    }
   },
   "id": "e2a6de469f6c317d",
   "execution_count": 14
  },
  {
   "cell_type": "code",
   "outputs": [
    {
     "name": "stdout",
     "output_type": "stream",
     "text": [
      "Epoch: 001, Train Acc: 0.6600, Val Acc: 0.6316, Test Acc: 0.7368\n",
      "Best model saved at epoch 1\n",
      "Epoch: 002, Train Acc: 0.6600, Val Acc: 0.6316, Test Acc: 0.7368\n",
      "Epoch: 003, Train Acc: 0.6600, Val Acc: 0.6316, Test Acc: 0.7368\n",
      "Epoch: 004, Train Acc: 0.6600, Val Acc: 0.6316, Test Acc: 0.7368\n",
      "Epoch: 005, Train Acc: 0.6600, Val Acc: 0.6316, Test Acc: 0.7368\n",
      "Epoch: 006, Train Acc: 0.7333, Val Acc: 0.5789, Test Acc: 0.7895\n",
      "Epoch: 007, Train Acc: 0.7533, Val Acc: 0.6316, Test Acc: 0.7368\n",
      "Epoch: 008, Train Acc: 0.7267, Val Acc: 0.6316, Test Acc: 0.7895\n",
      "Epoch: 009, Train Acc: 0.7267, Val Acc: 0.5263, Test Acc: 0.7895\n",
      "Epoch: 010, Train Acc: 0.7400, Val Acc: 0.5789, Test Acc: 0.7368\n",
      "Epoch: 011, Train Acc: 0.7333, Val Acc: 0.5263, Test Acc: 0.7895\n",
      "Epoch: 012, Train Acc: 0.7600, Val Acc: 0.6316, Test Acc: 0.7895\n",
      "Epoch: 013, Train Acc: 0.7333, Val Acc: 0.5789, Test Acc: 0.8421\n",
      "Epoch: 014, Train Acc: 0.7533, Val Acc: 0.5789, Test Acc: 0.7368\n",
      "Epoch: 015, Train Acc: 0.7467, Val Acc: 0.5789, Test Acc: 0.7895\n",
      "Epoch: 016, Train Acc: 0.7333, Val Acc: 0.5789, Test Acc: 0.7895\n",
      "Epoch: 017, Train Acc: 0.7533, Val Acc: 0.5789, Test Acc: 0.7895\n",
      "Epoch: 018, Train Acc: 0.7733, Val Acc: 0.6316, Test Acc: 0.7895\n",
      "Epoch: 019, Train Acc: 0.7267, Val Acc: 0.5789, Test Acc: 0.7895\n",
      "Epoch: 020, Train Acc: 0.7533, Val Acc: 0.5789, Test Acc: 0.7895\n",
      "Epoch: 021, Train Acc: 0.7400, Val Acc: 0.5789, Test Acc: 0.7895\n",
      "Epoch: 022, Train Acc: 0.7600, Val Acc: 0.6316, Test Acc: 0.7895\n",
      "Epoch: 023, Train Acc: 0.7533, Val Acc: 0.5789, Test Acc: 0.7895\n",
      "Epoch: 024, Train Acc: 0.7667, Val Acc: 0.5789, Test Acc: 0.7895\n",
      "Epoch: 025, Train Acc: 0.7600, Val Acc: 0.6316, Test Acc: 0.8421\n",
      "Epoch: 026, Train Acc: 0.7667, Val Acc: 0.5789, Test Acc: 0.7895\n",
      "Epoch: 027, Train Acc: 0.7600, Val Acc: 0.6316, Test Acc: 0.8421\n",
      "Epoch: 028, Train Acc: 0.7800, Val Acc: 0.6316, Test Acc: 0.8421\n",
      "Epoch: 029, Train Acc: 0.7800, Val Acc: 0.6316, Test Acc: 0.7895\n",
      "Epoch: 030, Train Acc: 0.7600, Val Acc: 0.6316, Test Acc: 0.7895\n",
      "Epoch: 031, Train Acc: 0.7867, Val Acc: 0.6316, Test Acc: 0.8421\n",
      "Epoch: 032, Train Acc: 0.7600, Val Acc: 0.6316, Test Acc: 0.7895\n",
      "Epoch: 033, Train Acc: 0.7600, Val Acc: 0.6316, Test Acc: 0.7895\n",
      "Epoch: 034, Train Acc: 0.7867, Val Acc: 0.6316, Test Acc: 0.8421\n",
      "Epoch: 035, Train Acc: 0.7600, Val Acc: 0.6316, Test Acc: 0.7895\n",
      "Epoch: 036, Train Acc: 0.7667, Val Acc: 0.6316, Test Acc: 0.7895\n",
      "Epoch: 037, Train Acc: 0.7867, Val Acc: 0.6316, Test Acc: 0.7895\n",
      "Epoch: 038, Train Acc: 0.7600, Val Acc: 0.6316, Test Acc: 0.7895\n",
      "Epoch: 039, Train Acc: 0.7867, Val Acc: 0.6842, Test Acc: 0.8421\n",
      "Best model saved at epoch 39\n",
      "Epoch: 040, Train Acc: 0.7600, Val Acc: 0.6316, Test Acc: 0.7895\n",
      "Epoch: 041, Train Acc: 0.7867, Val Acc: 0.6316, Test Acc: 0.7895\n",
      "Epoch: 042, Train Acc: 0.7867, Val Acc: 0.6842, Test Acc: 0.8421\n",
      "Epoch: 043, Train Acc: 0.7533, Val Acc: 0.6316, Test Acc: 0.7368\n",
      "Epoch: 044, Train Acc: 0.7867, Val Acc: 0.6316, Test Acc: 0.7895\n",
      "Epoch: 045, Train Acc: 0.7867, Val Acc: 0.6316, Test Acc: 0.7895\n",
      "Epoch: 046, Train Acc: 0.7867, Val Acc: 0.6316, Test Acc: 0.7895\n",
      "Epoch: 047, Train Acc: 0.7867, Val Acc: 0.6316, Test Acc: 0.7895\n",
      "Epoch: 048, Train Acc: 0.7600, Val Acc: 0.5789, Test Acc: 0.7895\n",
      "Epoch: 049, Train Acc: 0.7667, Val Acc: 0.6316, Test Acc: 0.7895\n",
      "Epoch: 050, Train Acc: 0.7667, Val Acc: 0.6316, Test Acc: 0.7895\n",
      "Epoch: 051, Train Acc: 0.7600, Val Acc: 0.6316, Test Acc: 0.7895\n",
      "Epoch: 052, Train Acc: 0.7867, Val Acc: 0.6842, Test Acc: 0.8421\n",
      "Epoch: 053, Train Acc: 0.7600, Val Acc: 0.5789, Test Acc: 0.7368\n",
      "Epoch: 054, Train Acc: 0.7467, Val Acc: 0.5789, Test Acc: 0.7368\n",
      "Epoch: 055, Train Acc: 0.7733, Val Acc: 0.7368, Test Acc: 0.8421\n",
      "Best model saved at epoch 55\n",
      "Epoch: 056, Train Acc: 0.7533, Val Acc: 0.6316, Test Acc: 0.7368\n",
      "Epoch: 057, Train Acc: 0.7667, Val Acc: 0.6842, Test Acc: 0.7368\n",
      "Epoch: 058, Train Acc: 0.7867, Val Acc: 0.6842, Test Acc: 0.8421\n",
      "Epoch: 059, Train Acc: 0.7867, Val Acc: 0.6316, Test Acc: 0.7895\n",
      "Epoch: 060, Train Acc: 0.7600, Val Acc: 0.6316, Test Acc: 0.7895\n",
      "Epoch: 061, Train Acc: 0.7667, Val Acc: 0.6316, Test Acc: 0.7895\n",
      "Epoch: 062, Train Acc: 0.7867, Val Acc: 0.6316, Test Acc: 0.7895\n",
      "Epoch: 063, Train Acc: 0.7867, Val Acc: 0.6316, Test Acc: 0.7895\n",
      "Epoch: 064, Train Acc: 0.7533, Val Acc: 0.6316, Test Acc: 0.7368\n",
      "Epoch: 065, Train Acc: 0.7867, Val Acc: 0.6316, Test Acc: 0.7895\n",
      "Epoch: 066, Train Acc: 0.7867, Val Acc: 0.6316, Test Acc: 0.7895\n",
      "Epoch: 067, Train Acc: 0.7667, Val Acc: 0.6316, Test Acc: 0.7895\n",
      "Epoch: 068, Train Acc: 0.7667, Val Acc: 0.6316, Test Acc: 0.7895\n",
      "Epoch: 069, Train Acc: 0.7867, Val Acc: 0.6316, Test Acc: 0.8421\n",
      "Epoch: 070, Train Acc: 0.7533, Val Acc: 0.6316, Test Acc: 0.7368\n",
      "Epoch: 071, Train Acc: 0.7867, Val Acc: 0.6316, Test Acc: 0.7895\n",
      "Epoch: 072, Train Acc: 0.7533, Val Acc: 0.6316, Test Acc: 0.7368\n",
      "Epoch: 073, Train Acc: 0.7733, Val Acc: 0.6316, Test Acc: 0.7895\n",
      "Epoch: 074, Train Acc: 0.7867, Val Acc: 0.6316, Test Acc: 0.7895\n",
      "Epoch: 075, Train Acc: 0.7600, Val Acc: 0.6316, Test Acc: 0.7368\n",
      "Epoch: 076, Train Acc: 0.7667, Val Acc: 0.6316, Test Acc: 0.7368\n",
      "Epoch: 077, Train Acc: 0.7867, Val Acc: 0.6316, Test Acc: 0.8421\n",
      "Epoch: 078, Train Acc: 0.7733, Val Acc: 0.6316, Test Acc: 0.7895\n",
      "Epoch: 079, Train Acc: 0.7600, Val Acc: 0.5789, Test Acc: 0.7368\n",
      "Epoch: 080, Train Acc: 0.7667, Val Acc: 0.5789, Test Acc: 0.7368\n",
      "Epoch: 081, Train Acc: 0.8000, Val Acc: 0.6842, Test Acc: 0.8421\n",
      "Epoch: 082, Train Acc: 0.7667, Val Acc: 0.6316, Test Acc: 0.7368\n",
      "Epoch: 083, Train Acc: 0.7800, Val Acc: 0.6842, Test Acc: 0.7368\n",
      "Epoch: 084, Train Acc: 0.7733, Val Acc: 0.6316, Test Acc: 0.7895\n",
      "Epoch: 085, Train Acc: 0.7667, Val Acc: 0.6316, Test Acc: 0.7895\n",
      "Epoch: 086, Train Acc: 0.7667, Val Acc: 0.6316, Test Acc: 0.7368\n",
      "Epoch: 087, Train Acc: 0.7867, Val Acc: 0.6316, Test Acc: 0.7895\n",
      "Epoch: 088, Train Acc: 0.7667, Val Acc: 0.6316, Test Acc: 0.7895\n",
      "Epoch: 089, Train Acc: 0.7867, Val Acc: 0.6316, Test Acc: 0.7895\n",
      "Epoch: 090, Train Acc: 0.7667, Val Acc: 0.6316, Test Acc: 0.7368\n",
      "Epoch: 091, Train Acc: 0.7667, Val Acc: 0.6316, Test Acc: 0.7895\n",
      "Epoch: 092, Train Acc: 0.7667, Val Acc: 0.6316, Test Acc: 0.7895\n",
      "Epoch: 093, Train Acc: 0.7667, Val Acc: 0.6316, Test Acc: 0.7895\n",
      "Epoch: 094, Train Acc: 0.7667, Val Acc: 0.6316, Test Acc: 0.7368\n",
      "Epoch: 095, Train Acc: 0.7667, Val Acc: 0.6316, Test Acc: 0.7895\n",
      "Epoch: 096, Train Acc: 0.7667, Val Acc: 0.6316, Test Acc: 0.7895\n",
      "Epoch: 097, Train Acc: 0.7800, Val Acc: 0.6316, Test Acc: 0.7368\n",
      "Epoch: 098, Train Acc: 0.7867, Val Acc: 0.6316, Test Acc: 0.8421\n",
      "Epoch: 099, Train Acc: 0.7733, Val Acc: 0.6316, Test Acc: 0.7368\n",
      "Epoch: 100, Train Acc: 0.7733, Val Acc: 0.6316, Test Acc: 0.7895\n",
      "Epoch: 101, Train Acc: 0.7667, Val Acc: 0.6316, Test Acc: 0.8421\n",
      "Epoch: 102, Train Acc: 0.7867, Val Acc: 0.6316, Test Acc: 0.8421\n",
      "Epoch: 103, Train Acc: 0.7800, Val Acc: 0.6842, Test Acc: 0.7368\n",
      "Epoch: 104, Train Acc: 0.7667, Val Acc: 0.5789, Test Acc: 0.7368\n",
      "Epoch: 105, Train Acc: 0.8000, Val Acc: 0.6316, Test Acc: 0.8421\n",
      "Epoch: 106, Train Acc: 0.7867, Val Acc: 0.6842, Test Acc: 0.7368\n",
      "Epoch: 107, Train Acc: 0.7667, Val Acc: 0.6316, Test Acc: 0.7368\n",
      "Epoch: 108, Train Acc: 0.7667, Val Acc: 0.5789, Test Acc: 0.7895\n",
      "Epoch: 109, Train Acc: 0.7667, Val Acc: 0.5789, Test Acc: 0.7368\n",
      "Epoch: 110, Train Acc: 0.7667, Val Acc: 0.6316, Test Acc: 0.7895\n",
      "Epoch: 111, Train Acc: 0.7667, Val Acc: 0.6316, Test Acc: 0.8421\n",
      "Epoch: 112, Train Acc: 0.7867, Val Acc: 0.6842, Test Acc: 0.7368\n",
      "Epoch: 113, Train Acc: 0.7867, Val Acc: 0.6842, Test Acc: 0.7368\n",
      "Epoch: 114, Train Acc: 0.7667, Val Acc: 0.6316, Test Acc: 0.7895\n",
      "Epoch: 115, Train Acc: 0.7867, Val Acc: 0.6316, Test Acc: 0.7895\n",
      "Epoch: 116, Train Acc: 0.7667, Val Acc: 0.5789, Test Acc: 0.7368\n",
      "Epoch: 117, Train Acc: 0.7733, Val Acc: 0.6316, Test Acc: 0.7895\n",
      "Epoch: 118, Train Acc: 0.7867, Val Acc: 0.6842, Test Acc: 0.7368\n",
      "Epoch: 119, Train Acc: 0.7867, Val Acc: 0.6842, Test Acc: 0.7368\n",
      "Epoch: 120, Train Acc: 0.7867, Val Acc: 0.6316, Test Acc: 0.8421\n",
      "Epoch: 121, Train Acc: 0.7733, Val Acc: 0.6316, Test Acc: 0.7368\n",
      "Epoch: 122, Train Acc: 0.7733, Val Acc: 0.5789, Test Acc: 0.7368\n",
      "Epoch: 123, Train Acc: 0.7733, Val Acc: 0.6316, Test Acc: 0.7368\n",
      "Epoch: 124, Train Acc: 0.7667, Val Acc: 0.6316, Test Acc: 0.7895\n",
      "Epoch: 125, Train Acc: 0.7867, Val Acc: 0.6316, Test Acc: 0.7368\n",
      "Epoch: 126, Train Acc: 0.7667, Val Acc: 0.6316, Test Acc: 0.7895\n",
      "Epoch: 127, Train Acc: 0.7933, Val Acc: 0.6842, Test Acc: 0.7368\n",
      "Epoch: 128, Train Acc: 0.7733, Val Acc: 0.6316, Test Acc: 0.7368\n",
      "Epoch: 129, Train Acc: 0.8000, Val Acc: 0.6316, Test Acc: 0.8421\n",
      "Epoch: 130, Train Acc: 0.7800, Val Acc: 0.6842, Test Acc: 0.7368\n",
      "Epoch: 131, Train Acc: 0.8000, Val Acc: 0.6316, Test Acc: 0.8421\n",
      "Epoch: 132, Train Acc: 0.7867, Val Acc: 0.6842, Test Acc: 0.7368\n",
      "Epoch: 133, Train Acc: 0.7867, Val Acc: 0.6842, Test Acc: 0.7368\n",
      "Epoch: 134, Train Acc: 0.7867, Val Acc: 0.6316, Test Acc: 0.8421\n",
      "Epoch: 135, Train Acc: 0.7867, Val Acc: 0.6842, Test Acc: 0.7368\n",
      "Epoch: 136, Train Acc: 0.7867, Val Acc: 0.6842, Test Acc: 0.7368\n",
      "Epoch: 137, Train Acc: 0.7867, Val Acc: 0.6316, Test Acc: 0.8421\n",
      "Epoch: 138, Train Acc: 0.7667, Val Acc: 0.6316, Test Acc: 0.7895\n",
      "Epoch: 139, Train Acc: 0.7933, Val Acc: 0.6842, Test Acc: 0.7368\n",
      "Epoch: 140, Train Acc: 0.7933, Val Acc: 0.6842, Test Acc: 0.7368\n",
      "Epoch: 141, Train Acc: 0.7667, Val Acc: 0.6316, Test Acc: 0.7895\n",
      "Epoch: 142, Train Acc: 0.7867, Val Acc: 0.6316, Test Acc: 0.7368\n",
      "Epoch: 143, Train Acc: 0.7867, Val Acc: 0.6316, Test Acc: 0.7368\n",
      "Epoch: 144, Train Acc: 0.7867, Val Acc: 0.6842, Test Acc: 0.7368\n",
      "Epoch: 145, Train Acc: 0.7733, Val Acc: 0.6316, Test Acc: 0.7368\n",
      "Epoch: 146, Train Acc: 0.7867, Val Acc: 0.6316, Test Acc: 0.8421\n",
      "Epoch: 147, Train Acc: 0.7933, Val Acc: 0.6842, Test Acc: 0.7368\n",
      "Epoch: 148, Train Acc: 0.7933, Val Acc: 0.6842, Test Acc: 0.7368\n",
      "Epoch: 149, Train Acc: 0.7667, Val Acc: 0.6316, Test Acc: 0.7895\n",
      "Epoch: 150, Train Acc: 0.7933, Val Acc: 0.6842, Test Acc: 0.7368\n",
      "Epoch: 151, Train Acc: 0.7667, Val Acc: 0.6316, Test Acc: 0.7895\n",
      "Epoch: 152, Train Acc: 0.7800, Val Acc: 0.6316, Test Acc: 0.7895\n",
      "Epoch: 153, Train Acc: 0.8000, Val Acc: 0.6842, Test Acc: 0.7368\n",
      "Epoch: 154, Train Acc: 0.8000, Val Acc: 0.6842, Test Acc: 0.7368\n",
      "Epoch: 155, Train Acc: 0.7667, Val Acc: 0.6316, Test Acc: 0.8421\n",
      "Epoch: 156, Train Acc: 0.7933, Val Acc: 0.6842, Test Acc: 0.7368\n",
      "Epoch: 157, Train Acc: 0.7933, Val Acc: 0.6842, Test Acc: 0.7368\n",
      "Epoch: 158, Train Acc: 0.7733, Val Acc: 0.6316, Test Acc: 0.7895\n",
      "Epoch: 159, Train Acc: 0.7933, Val Acc: 0.6316, Test Acc: 0.8421\n",
      "Epoch: 160, Train Acc: 0.7867, Val Acc: 0.6842, Test Acc: 0.7368\n",
      "Epoch: 161, Train Acc: 0.8067, Val Acc: 0.6316, Test Acc: 0.8947\n",
      "Epoch: 162, Train Acc: 0.7733, Val Acc: 0.6842, Test Acc: 0.7895\n",
      "Epoch: 163, Train Acc: 0.7867, Val Acc: 0.6842, Test Acc: 0.7368\n",
      "Epoch: 164, Train Acc: 0.7733, Val Acc: 0.6316, Test Acc: 0.7368\n",
      "Epoch: 165, Train Acc: 0.7867, Val Acc: 0.6316, Test Acc: 0.8421\n",
      "Epoch: 166, Train Acc: 0.7933, Val Acc: 0.6842, Test Acc: 0.7368\n",
      "Epoch: 167, Train Acc: 0.7733, Val Acc: 0.6316, Test Acc: 0.8421\n",
      "Epoch: 168, Train Acc: 0.7667, Val Acc: 0.6316, Test Acc: 0.7895\n",
      "Epoch: 169, Train Acc: 0.7933, Val Acc: 0.6842, Test Acc: 0.7368\n",
      "Epoch: 170, Train Acc: 0.7933, Val Acc: 0.6316, Test Acc: 0.7895\n",
      "Epoch: 171, Train Acc: 0.8000, Val Acc: 0.6842, Test Acc: 0.7368\n",
      "Epoch: 172, Train Acc: 0.7933, Val Acc: 0.6842, Test Acc: 0.7368\n",
      "Epoch: 173, Train Acc: 0.8000, Val Acc: 0.6316, Test Acc: 0.8421\n",
      "Epoch: 174, Train Acc: 0.8000, Val Acc: 0.6842, Test Acc: 0.7368\n",
      "Epoch: 175, Train Acc: 0.7800, Val Acc: 0.6842, Test Acc: 0.7368\n",
      "Epoch: 176, Train Acc: 0.7800, Val Acc: 0.6316, Test Acc: 0.7368\n",
      "Epoch: 177, Train Acc: 0.7667, Val Acc: 0.6316, Test Acc: 0.8421\n",
      "Epoch: 178, Train Acc: 0.7933, Val Acc: 0.6842, Test Acc: 0.7368\n",
      "Epoch: 179, Train Acc: 0.7933, Val Acc: 0.6842, Test Acc: 0.7368\n",
      "Epoch: 180, Train Acc: 0.7667, Val Acc: 0.6316, Test Acc: 0.8421\n",
      "Epoch: 181, Train Acc: 0.7800, Val Acc: 0.6316, Test Acc: 0.7895\n",
      "Epoch: 182, Train Acc: 0.7933, Val Acc: 0.6842, Test Acc: 0.7368\n",
      "Epoch: 183, Train Acc: 0.7933, Val Acc: 0.6842, Test Acc: 0.7368\n",
      "Epoch: 184, Train Acc: 0.8067, Val Acc: 0.6316, Test Acc: 0.7895\n",
      "Epoch: 185, Train Acc: 0.8000, Val Acc: 0.6842, Test Acc: 0.7368\n",
      "Epoch: 186, Train Acc: 0.8000, Val Acc: 0.6842, Test Acc: 0.7368\n",
      "Epoch: 187, Train Acc: 0.7800, Val Acc: 0.6842, Test Acc: 0.8421\n",
      "Epoch: 188, Train Acc: 0.8000, Val Acc: 0.6842, Test Acc: 0.7368\n",
      "Epoch: 189, Train Acc: 0.8000, Val Acc: 0.6842, Test Acc: 0.7368\n",
      "Epoch: 190, Train Acc: 0.7667, Val Acc: 0.6316, Test Acc: 0.7895\n",
      "Epoch: 191, Train Acc: 0.7733, Val Acc: 0.6316, Test Acc: 0.7895\n",
      "Epoch: 192, Train Acc: 0.7933, Val Acc: 0.6842, Test Acc: 0.7368\n",
      "Epoch: 193, Train Acc: 0.7933, Val Acc: 0.6316, Test Acc: 0.8421\n",
      "Epoch: 194, Train Acc: 0.8000, Val Acc: 0.6842, Test Acc: 0.8421\n",
      "Epoch: 195, Train Acc: 0.7867, Val Acc: 0.6842, Test Acc: 0.7368\n",
      "Epoch: 196, Train Acc: 0.7733, Val Acc: 0.6316, Test Acc: 0.7895\n",
      "Epoch: 197, Train Acc: 0.8000, Val Acc: 0.6316, Test Acc: 0.7895\n",
      "Epoch: 198, Train Acc: 0.7800, Val Acc: 0.6316, Test Acc: 0.7895\n",
      "Epoch: 199, Train Acc: 0.7867, Val Acc: 0.6842, Test Acc: 0.7368\n"
     ]
    }
   ],
   "source": [
    "# Skip to avoid training\n",
    "best_val_acc = 0\n",
    "for epoch in range(1, 200):\n",
    "#    train() # uncomment to train\n",
    "    train_acc = test(train_loader)\n",
    "    val_acc = test(val_loader)\n",
    "    test_acc = test(test_loader)\n",
    "    print(f'Epoch: {epoch:03d}, Train Acc: {train_acc:.4f}, Val Acc: {val_acc:.4f}, Test Acc: {test_acc:.4f}')\n",
    "    \n",
    "    # Save best model on validation set\n",
    "    if epoch == 1 or val_acc > best_val_acc:\n",
    "        best_val_acc = val_acc\n",
    "        torch.save(model.state_dict(), save_path)\n",
    "        print(f'Best model saved at epoch {epoch}')"
   ],
   "metadata": {
    "collapsed": false,
    "ExecuteTime": {
     "end_time": "2024-03-14T12:08:31.134808Z",
     "start_time": "2024-03-14T12:07:42.557850Z"
    }
   },
   "id": "51107dd9e031dd0b",
   "execution_count": 15
  },
  {
   "cell_type": "code",
   "outputs": [],
   "source": [
    "# Load best model\n",
    "model.load_state_dict(torch.load(save_path))\n",
    "\n",
    "# Get the accurate samples on the test set (we explain only true positives for now)\n",
    "correct_samples = []\n",
    "for data in test_loader:  # Only one loop (#num_batches = 1)\n",
    "    out = model(data.x, data.edge_index, data.batch)  \n",
    "    pred = out.argmax(dim=1)\n",
    "    correct_samples = data[pred == data.y]"
   ],
   "metadata": {
    "collapsed": false
   },
   "id": "4e06d1a6bb5b7479",
   "execution_count": null
  },
  {
   "cell_type": "code",
   "outputs": [
    {
     "name": "stdout",
     "output_type": "stream",
     "text": [
      "0) 22, 1\n",
      "1) 15, 1\n",
      "2) 12, 0\n",
      "3) 14, 0\n",
      "4) 12, 0\n",
      "5) 20, 1\n",
      "6) 20, 1\n",
      "7) 20, 1\n",
      "8) 14, 0\n",
      "9) 26, 1\n",
      "10) 24, 1\n",
      "11) 22, 1\n",
      "12) 22, 1\n",
      "13) 19, 1\n",
      "14) 23, 1\n",
      "15) 22, 1\n"
     ]
    }
   ],
   "source": [
    "# Samples have +- 20 nodes, and both 0 and 1 are predicted\n",
    "for i, data in enumerate(correct_samples):\n",
    "    print(f\"{i}) {data.num_nodes}, {data.y.item()}\")"
   ],
   "metadata": {
    "collapsed": false,
    "ExecuteTime": {
     "end_time": "2024-03-14T14:13:12.420557Z",
     "start_time": "2024-03-14T14:13:11.795556Z"
    }
   },
   "id": "45f7390484cced01",
   "execution_count": 20
  },
  {
   "cell_type": "code",
   "outputs": [],
   "source": [
    "from torch_geometric.utils import index_to_mask, to_dense_adj\n",
    "\n",
    "def mask_nodes(input, nodes_to_remove):\n",
    "    \"\"\"\n",
    "    Mask nodes in a graph.\n",
    "    :param input: torch.Data containing 1 graph.\n",
    "    :param nodes_to_remove: list of node indexes to remove.\n",
    "    :return: A subgraph of the original.\n",
    "    \"\"\"\n",
    "    data = input.clone()\n",
    "    mask = torch.ones(data.num_nodes, dtype=torch.bool)\n",
    "    mask[nodes_to_remove] = False\n",
    "    masked_input = data.subgraph(mask)\n",
    "    masked_input.validate()\n",
    "    \n",
    "    return masked_input"
   ],
   "metadata": {
    "collapsed": false,
    "ExecuteTime": {
     "end_time": "2024-03-14T14:08:07.460430Z",
     "start_time": "2024-03-14T14:08:06.604436Z"
    }
   },
   "id": "686d8a4ddd4fcd95",
   "execution_count": 4
  },
  {
   "cell_type": "code",
   "outputs": [
    {
     "name": "stdout",
     "output_type": "stream",
     "text": [
      "Data(edge_index=[2, 26], x=[12, 7], edge_attr=[26, 4], y=[1])\n",
      "Data(edge_index=[2, 10], x=[8, 7], edge_attr=[10, 4], y=[1])\n"
     ]
    }
   ],
   "source": [
    "# Let us try it out on one sample\n",
    "sample = correct_samples[2].clone().to('cpu')\n",
    "print(sample)\n",
    "\n",
    "mask = [1,5,10,11]\n",
    "\n",
    "masked_sample = mask_nodes(sample, nodes_to_remove=mask)\n",
    "print(masked_sample)"
   ],
   "metadata": {
    "collapsed": false,
    "ExecuteTime": {
     "end_time": "2024-03-14T14:13:40.111084Z",
     "start_time": "2024-03-14T14:13:39.475084Z"
    }
   },
   "id": "5d3335d367d9faa8",
   "execution_count": 22
  },
  {
   "cell_type": "code",
   "outputs": [
    {
     "data": {
      "text/plain": "<Figure size 1000x500 with 2 Axes>",
      "image/png": "[encoded data removed]"
     },
     "metadata": {},
     "output_type": "display_data"
    }
   ],
   "source": [
    "# Plot the original and masked graph Adjacency matrix\n",
    "adj = to_dense_adj(sample.edge_index)[0]\n",
    "masked_adj = to_dense_adj(masked_sample.edge_index)[0]\n",
    "\n",
    "fig, ax = plt.subplots(1, 2, figsize=(10, 5))\n",
    "ax[0].imshow(adj, cmap='viridis')\n",
    "ax[0].set_title('Original Adjacency Matrix')\n",
    "for n in mask:\n",
    "    ax[0].axvline(n, color='r')\n",
    "    ax[0].axhline(n, color='r')\n",
    "\n",
    "ax[1].imshow(masked_adj, cmap='viridis')\n",
    "ax[1].set_title('Masked Adjacency Matrix')\n",
    "plt.show()"
   ],
   "metadata": {
    "collapsed": false,
    "ExecuteTime": {
     "end_time": "2024-03-14T14:13:43.349141Z",
     "start_time": "2024-03-14T14:13:42.260140Z"
    }
   },
   "id": "b6cb496d5b43d4fd",
   "execution_count": 23
  },
  {
   "cell_type": "code",
   "outputs": [
    {
     "name": "stdout",
     "output_type": "stream",
     "text": [
      "Prediction: 0\n",
      "Ground truth: 0\n"
     ]
    }
   ],
   "source": [
    "# Make predictions on the masked graph\n",
    "masked_loader = DataLoader([masked_sample.to(device)], batch_size=1, shuffle=False) # model forward pass needs a DataLoader\n",
    "model.eval()\n",
    "for data in masked_loader:\n",
    "    out = model(data.x, data.edge_index, data.batch)  \n",
    "    pred = out.argmax(dim=1)\n",
    "    print(f'Prediction: {pred.item()}')\n",
    "    print(f'Ground truth: {data.y.item()}')"
   ],
   "metadata": {
    "collapsed": false,
    "ExecuteTime": {
     "end_time": "2024-03-14T14:14:09.377255Z",
     "start_time": "2024-03-14T14:14:08.737255Z"
    }
   },
   "id": "884109ba7da44353",
   "execution_count": 24
  },
  {
   "cell_type": "code",
   "outputs": [],
   "source": [],
   "metadata": {
    "collapsed": false
   },
   "id": "36726dc41f68fb3a"
  }
 ],
 "metadata": {
  "kernelspec": {
   "display_name": "Python 3",
   "language": "python",
   "name": "python3"
  },
  "language_info": {
   "codemirror_mode": {
    "name": "ipython",
    "version": 2
   },
   "file_extension": ".py",
   "mimetype": "text/x-python",
   "name": "python",
   "nbconvert_exporter": "python",
   "pygments_lexer": "ipython2",
   "version": "2.7.6"
  }
 },
 "nbformat": 4,
 "nbformat_minor": 5
}
